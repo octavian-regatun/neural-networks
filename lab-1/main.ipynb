{
 "cells": [
  {
   "cell_type": "markdown",
   "metadata": {},
   "source": [
    "<a target=\"_blank\" href=\"https://colab.research.google.com/github/Tensor-Reloaded/Neural-Networks-Template-2024/blob/main/Lab01/Assignment1.ipynb\">\n",
    "  <img src=\"https://colab.research.google.com/assets/colab-badge.svg\" alt=\"Open In Colab\"/>\n",
    "</a>\n"
   ]
  },
  {
   "cell_type": "markdown",
   "metadata": {},
   "source": [
    "# **Assignment 1 (10 points)**\n"
   ]
  },
  {
   "cell_type": "markdown",
   "metadata": {
    "vscode": {
     "languageId": "plaintext"
    }
   },
   "source": [
    "## **Solving a linear system in python**\n"
   ]
  },
  {
   "cell_type": "markdown",
   "metadata": {
    "vscode": {
     "languageId": "plaintext"
    }
   },
   "source": [
    "In this homework, you will familiarize yourself with key linear algebra con-\n",
    "cepts and Python programming by solving a system of linear equations. You\n",
    "will explore multiple methods for solving such systems, including Cramer’s rule\n",
    "and matrix inversion. By the end of this assignment, you will have a good un-\n",
    "derstanding of how to represent and manipulate matrices and vectors in Python.\n"
   ]
  },
  {
   "cell_type": "markdown",
   "metadata": {
    "vscode": {
     "languageId": "plaintext"
    }
   },
   "source": [
    "We begin with the following system of 3 linear equations with 3 unknowns:\n",
    "$$ 2x + 3y - z = 5 $$\n",
    "$$ x - y + 4z = 6 $$\n",
    "$$ 3x + y + 2z = 7 $$\n",
    "\n",
    "This system can be vectorized in the following form:\n",
    "$$ A \\cdot X = B $$\n",
    "where:\n",
    "\n",
    "$$\n",
    "A = \\begin{bmatrix}\n",
    "2 & 3 & -1 \\\\\n",
    "1 & -1 & 4 \\\\\n",
    "3 & 1 & 2\n",
    "\\end{bmatrix}, \\quad\n",
    "X = \\begin{bmatrix}\n",
    "x \\\\\n",
    "y \\\\\n",
    "z\n",
    "\\end{bmatrix}, \\quad\n",
    "B = \\begin{bmatrix}\n",
    "5 \\\\\n",
    "6 \\\\\n",
    "7\n",
    "\\end{bmatrix}\n",
    "$$\n",
    "\n",
    "**Considerations**\n",
    "\n",
    "- do not use any linear algebra framework such as $numpy$\n",
    "- use python lists as data structures for matrices and vectors\n",
    "- experiment with other values for the coefficients and free terms\n"
   ]
  },
  {
   "cell_type": "markdown",
   "metadata": {
    "vscode": {
     "languageId": "plaintext"
    }
   },
   "source": [
    "### **1. Parsing the System of Equations (1 point)**\n"
   ]
  },
  {
   "cell_type": "markdown",
   "metadata": {
    "vscode": {
     "languageId": "plaintext"
    }
   },
   "source": [
    "The first task is to implement a Python script that reads a system of linear equations from a text file and parses it into a matrix $A$ and a vector $B$. You will use the input format described below to extract the coefficients for $A$ and $B$.\n",
    "\n",
    "**Input File Format**\n",
    "\n",
    "```text\n",
    "2x + 3y - z = 5\n",
    "x - y + 4z = 6\n",
    "3x + y + 2z = 7\n",
    "```\n",
    "\n",
    "Note that the coefficients are always in the order x, y and z and the terms are always space separated\n"
   ]
  },
  {
   "cell_type": "code",
   "execution_count": 21,
   "metadata": {},
   "outputs": [
    {
     "name": "stdout",
     "output_type": "stream",
     "text": [
      "A=[[2.0, 3.0, -1.0], [1.0, -1.0, 4.0], [3.0, 1.0, 2.0]] B=[5.0, 6.0, 7.0]\n"
     ]
    }
   ],
   "source": [
    "import pathlib\n",
    "\n",
    "\n",
    "def get_signs(row: list[str]) -> list[str]:\n",
    "    signs = [\"+\"]\n",
    "\n",
    "    for token in row:\n",
    "        if token == \"+\" or token == \"-\":\n",
    "            signs.append(token)\n",
    "\n",
    "    return signs\n",
    "\n",
    "\n",
    "def get_coefficients(row: list[str]) -> list[float]:\n",
    "    coefficients = []\n",
    "    coefficient_str = \"\"\n",
    "\n",
    "    for token in row:\n",
    "        if \"x\" not in token and \"y\" not in token and \"z\" not in token:\n",
    "            continue\n",
    "\n",
    "        for chr in token:\n",
    "            if chr.isdigit() or chr == \".\":\n",
    "                coefficient_str += chr\n",
    "        \n",
    "        if(coefficient_str == \"\"):\n",
    "            coefficient_str = \"1\"\n",
    "\n",
    "        coefficients.append(float(coefficient_str))\n",
    "        coefficient_str = \"\"\n",
    "\n",
    "    return coefficients\n",
    "\n",
    "def combine_signs_and_coefficients(signs: list[str], coefficients: list[float]) -> list[float]:\n",
    "    result = []\n",
    "\n",
    "    for i in range(len(signs)):\n",
    "        if signs[i] == \"+\":\n",
    "            result.append(coefficients[i])\n",
    "        else:\n",
    "            result.append(-coefficients[i])\n",
    "\n",
    "    return result\n",
    "\n",
    "def get_result(row: list[str]) -> float:\n",
    "    return float(row[-1])\n",
    "\n",
    "\n",
    "def load_system(path: pathlib.Path) -> tuple[list[list[float]], list[float]]:\n",
    "    A = []\n",
    "    B = []\n",
    "\n",
    "    with open(path, \"r\") as file:\n",
    "        file_content = file.readlines()\n",
    "\n",
    "    for file_row in file_content:\n",
    "        file_row_elements = file_row.split(\" \")\n",
    "        signs = get_signs(file_row_elements)\n",
    "        coefficients = get_coefficients(file_row_elements)\n",
    "        result = get_result(file_row_elements)\n",
    "        coefficients_with_signs = combine_signs_and_coefficients(signs, coefficients)\n",
    "        \n",
    "        A.append(coefficients_with_signs)\n",
    "        B.append(result)\n",
    "        \n",
    "        \n",
    "    return A,B\n",
    "\n",
    "\n",
    "A, B = load_system(pathlib.Path(\"input.txt\"))\n",
    "print(f\"{A=} {B=}\")"
   ]
  },
  {
   "cell_type": "markdown",
   "metadata": {
    "vscode": {
     "languageId": "plaintext"
    }
   },
   "source": [
    "### **2. Matrix and Vector Operations (5 points)**\n"
   ]
  },
  {
   "cell_type": "markdown",
   "metadata": {
    "vscode": {
     "languageId": "plaintext"
    }
   },
   "source": [
    "Once you have successfully parsed the matrix and vector, complete the following exercises to manipulate and understand basic matrix and vector operations. Write Python functions for each of these tasks:\n"
   ]
  },
  {
   "cell_type": "markdown",
   "metadata": {
    "vscode": {
     "languageId": "plaintext"
    }
   },
   "source": [
    "#### 2.1. Determinant\n"
   ]
  },
  {
   "cell_type": "markdown",
   "metadata": {
    "vscode": {
     "languageId": "plaintext"
    }
   },
   "source": [
    "Write a function to compute the determinant of matrix $A$. Recall one of the formulae for the determinant of a $3x3$ matrix:\n",
    "$$ \\text{det}(A) = a*{11}(a*{22}a*{33} - a*{23}a*{32}) - a*{12}(a*{21}a*{33} - a*{23}a*{31}) + a*{13}(a*{21}a*{32} - a*{22}a\\_{31}) $$\n"
   ]
  },
  {
   "cell_type": "code",
   "execution_count": 22,
   "metadata": {},
   "outputs": [
    {
     "name": "stdout",
     "output_type": "stream",
     "text": [
      "determinant(A)=14.0\n"
     ]
    }
   ],
   "source": [
    "def determinant(matrix: list[list[float]]) -> float:\n",
    "    if len(matrix) == 2:\n",
    "        return matrix[0][0] * matrix[1][1] - matrix[0][1] * matrix[1][0]\n",
    "    elif len(matrix) == 3:\n",
    "        a11, a12, a13 = matrix[0]\n",
    "        a21, a22, a23 = matrix[1]\n",
    "        a31, a32, a33 = matrix[2]\n",
    "\n",
    "        return (\n",
    "            a11 * (a22 * a33 - a23 * a32)\n",
    "            - a12 * (a21 * a33 - a23 * a31)\n",
    "            + a13 * (a21 * a32 - a22 * a31)\n",
    "        )\n",
    "    else:\n",
    "        raise ValueError(\"Only 2x2 and 3x3 matrices are supported\")\n",
    "\n",
    "\n",
    "print(f\"{determinant(A)=}\")"
   ]
  },
  {
   "cell_type": "markdown",
   "metadata": {},
   "source": [
    "#### 2.2. Trace\n"
   ]
  },
  {
   "cell_type": "markdown",
   "metadata": {},
   "source": [
    "Compute the sum of the elements along the main diagonal of matrix $A$. For a matrix $A$, this is:\n",
    "$$ \\text{Trace}(A) = a*{11} + a*{22} + a\\_{33} $$\n"
   ]
  },
  {
   "cell_type": "code",
   "execution_count": 23,
   "metadata": {},
   "outputs": [
    {
     "name": "stdout",
     "output_type": "stream",
     "text": [
      "trace(A)=3.0\n"
     ]
    }
   ],
   "source": [
    "def trace(matrix: list[list[float]]) -> float:\n",
    "    a11 = matrix[0][0]\n",
    "    a22 = matrix[1][1]\n",
    "    a33 = matrix[2][2]\n",
    "\n",
    "    tr = a11 + a22 + a33\n",
    "\n",
    "    return tr\n",
    "\n",
    "print(f\"{trace(A)=}\")"
   ]
  },
  {
   "cell_type": "markdown",
   "metadata": {},
   "source": [
    "#### 2.3. Vector norm\n"
   ]
  },
  {
   "cell_type": "markdown",
   "metadata": {},
   "source": [
    "Compute the Euclidean norm of vector $B$, which is:\n",
    "$$ ||B|| = \\sqrt{b_1^2 + b_2^2 + b_3^2} $$\n"
   ]
  },
  {
   "cell_type": "code",
   "execution_count": 24,
   "metadata": {},
   "outputs": [
    {
     "name": "stdout",
     "output_type": "stream",
     "text": [
      "norm(B)=10.488088481701515\n"
     ]
    }
   ],
   "source": [
    "import math\n",
    "\n",
    "def norm(vector: list[float]) -> float:\n",
    "    sum_of_squares = 0\n",
    "    \n",
    "    for x in vector:\n",
    "        sum_of_squares += x ** 2\n",
    "    \n",
    "    euclidean_norm = math.sqrt(sum_of_squares)\n",
    "    \n",
    "    return euclidean_norm\n",
    "\n",
    "print(f\"{norm(B)=}\")"
   ]
  },
  {
   "cell_type": "markdown",
   "metadata": {},
   "source": [
    "#### 2.4. Transpose of matrix\n"
   ]
  },
  {
   "cell_type": "markdown",
   "metadata": {},
   "source": [
    "Write a function to compute the transpose of matrix $A$. The transpose of a matrix $A$ is obtained by swapping its rows and columns.\n"
   ]
  },
  {
   "cell_type": "code",
   "execution_count": 25,
   "metadata": {},
   "outputs": [
    {
     "name": "stdout",
     "output_type": "stream",
     "text": [
      "transpose(A)=[[2.0, 1.0, 3.0], [3.0, -1.0, 1.0], [-1.0, 4.0, 2.0]]\n"
     ]
    }
   ],
   "source": [
    "def transpose(matrix: list[list[float]]) -> list[list[float]]:\n",
    "    transposed_matrix = [\n",
    "        [matrix[0][0], matrix[1][0], matrix[2][0]],\n",
    "        [matrix[0][1], matrix[1][1], matrix[2][1]],\n",
    "        [matrix[0][2], matrix[1][2], matrix[2][2]]\n",
    "    ]\n",
    "    return transposed_matrix\n",
    "\n",
    "print(f\"{transpose(A)=}\")"
   ]
  },
  {
   "cell_type": "markdown",
   "metadata": {},
   "source": [
    "#### 2.5. Matrix-vector multiplication\n"
   ]
  },
  {
   "cell_type": "markdown",
   "metadata": {},
   "source": [
    "Write a function that multiplies matrix $A$ with vector $B$.\n"
   ]
  },
  {
   "cell_type": "code",
   "execution_count": 26,
   "metadata": {},
   "outputs": [
    {
     "name": "stdout",
     "output_type": "stream",
     "text": [
      "multiply(A, B)=[21.0, 27.0, 35.0]\n"
     ]
    }
   ],
   "source": [
    "def multiply(matrix: list[list[float]], vector: list[float]) -> list[float]:\n",
    "    result = [0.0, 0.0, 0.0]\n",
    "    \n",
    "    for i in range(3):\n",
    "        result[i] = matrix[i][0] * vector[0] + matrix[i][1] * vector[1] + matrix[i][2] * vector[2]\n",
    "    \n",
    "    return result\n",
    "\n",
    "\n",
    "print(f\"{multiply(A, B)=}\")"
   ]
  },
  {
   "cell_type": "markdown",
   "metadata": {},
   "source": [
    "### **3. Solving using Cramer's Rule (1 point)**\n"
   ]
  },
  {
   "cell_type": "markdown",
   "metadata": {},
   "source": [
    "Now that you have explored basic matrix operations, solve the system of linear equations using Cramer's rule.\n",
    "\n",
    "**Cramer's Rule:**\n",
    "\n",
    "Cramer's rule allows you to solve for each unknown $x$, $y$, and $z$ using determinants. For example:\n",
    "$$ x = \\frac{\\text{det}(A_x)}{\\text{det}(A)}, \\quad y = \\frac{\\text{det}(A_y)}{\\text{det}(A)}, \\quad z = \\frac{\\text{det}(A_z)}{\\text{det}(A)} $$\n",
    "where $A_x$, $A_y$, and $A_z$ are matrices formed by replacing the respective column of matrix $A$ with vector $B$.\n"
   ]
  },
  {
   "cell_type": "code",
   "execution_count": 27,
   "metadata": {},
   "outputs": [
    {
     "name": "stdout",
     "output_type": "stream",
     "text": [
      "solve_cramer(A, B)=[0.35714285714285715, 2.0714285714285716, 1.9285714285714286]\n"
     ]
    }
   ],
   "source": [
    "def solve_cramer(matrix: list[list[float]], vector: list[float]) -> list[float]:\n",
    "    det_A = determinant(matrix)\n",
    "    \n",
    "    matrix1 = [\n",
    "        [vector[0], matrix[0][1], matrix[0][2]],\n",
    "        [vector[1], matrix[1][1], matrix[1][2]],\n",
    "        [vector[2], matrix[2][1], matrix[2][2]]\n",
    "    ]\n",
    "    matrix2 = [\n",
    "        [matrix[0][0], vector[0], matrix[0][2]],\n",
    "        [matrix[1][0], vector[1], matrix[1][2]],\n",
    "        [matrix[2][0], vector[2], matrix[2][2]]\n",
    "    ]\n",
    "    matrix3 = [\n",
    "        [matrix[0][0], matrix[0][1], vector[0]],\n",
    "        [matrix[1][0], matrix[1][1], vector[1]],\n",
    "        [matrix[2][0], matrix[2][1], vector[2]]\n",
    "    ]\n",
    "\n",
    "    det_Ax = determinant(matrix1)\n",
    "    det_Ay = determinant(matrix2)\n",
    "    det_Az = determinant(matrix3)\n",
    "\n",
    "    x = det_Ax / det_A\n",
    "    y = det_Ay / det_A\n",
    "    z = det_Az / det_A\n",
    "\n",
    "    return [x, y, z]\n",
    "\n",
    "\n",
    "print(f\"{solve_cramer(A, B)=}\")"
   ]
  },
  {
   "cell_type": "markdown",
   "metadata": {},
   "source": [
    "### **4. Solving using Inversion (3 points)**\n"
   ]
  },
  {
   "cell_type": "markdown",
   "metadata": {},
   "source": [
    "Finally, solve the system by computing the inverse of matrix $A$ and multiplying it by vector $B$.\n",
    "$$ A \\cdot X = B \\rightarrow X = A^{-1} \\cdot B $$\n",
    "**Adjugate Method for Matrix Inversion:**\n",
    "\n",
    "To find the inverse of matrix $ A $, you can use the adjugate method:\n",
    "$$ A^{-1} = \\frac{1}{\\text{det}(A)} \\times \\text{adj}(A) $$\n",
    "where $\\text{adj}(A)$ is the adjugate (or adjoint) matrix, which is the transpose of the cofactor matrix of $ A $.\n",
    "\n",
    "**Cofactor Matrix:**\n",
    "\n",
    "The cofactor matrix is a matrix where each element is replaced by its cofactor. The cofactor of an element $a_{ij}$ is given by:\n",
    "$$ (-1)^{i+j} \\times \\text{det}(M*{ij}) $$\n",
    "where $M*{ij}$ is the minor of element $a_{ij}$, which is the matrix obtained by removing the $i$-th row and $j$-th column from matrix $A$.\n"
   ]
  },
  {
   "cell_type": "code",
   "execution_count": 29,
   "metadata": {},
   "outputs": [
    {
     "name": "stdout",
     "output_type": "stream",
     "text": [
      "solve(A, B)=[0.35714285714285715, 2.0714285714285716, 1.9285714285714286]\n"
     ]
    }
   ],
   "source": [
    "def minor(matrix: list[list[float]], i: int, j: int) -> list[list[float]]:\n",
    "    minor_matrix = []\n",
    "    for row_index, row in enumerate(matrix):\n",
    "        if row_index != i:\n",
    "            new_row = []\n",
    "            for col_index, element in enumerate(row):\n",
    "                if col_index != j:\n",
    "                    new_row.append(element)\n",
    "            minor_matrix.append(new_row)\n",
    "    return minor_matrix\n",
    "\n",
    "\n",
    "def cofactor(matrix: list[list[float]]) -> list[list[float]]:\n",
    "    cofactors = []\n",
    "    for i in range(3):\n",
    "        cofactor_row = []\n",
    "        for j in range(3):\n",
    "            minor_matrix = minor(matrix, i, j)\n",
    "            cofactor_value = ((-1) ** (i + j)) * determinant(minor_matrix)\n",
    "            cofactor_row.append(cofactor_value)\n",
    "        cofactors.append(cofactor_row)\n",
    "    return cofactors\n",
    "\n",
    "\n",
    "def adjoint(matrix: list[list[float]]) -> list[list[float]]:\n",
    "    cofactors = cofactor(matrix)\n",
    "    adj = []\n",
    "    for i in range(3):\n",
    "        adj_row = []\n",
    "        for j in range(3):\n",
    "            adj_row.append(cofactors[j][i])\n",
    "        adj.append(adj_row)\n",
    "    return adj\n",
    "\n",
    "\n",
    "def solve(matrix: list[list[float]], vector: list[float]) -> list[float]:\n",
    "    det_A = determinant(matrix)\n",
    "    \n",
    "    adj_A = adjoint(matrix)\n",
    "    \n",
    "    result = [0.0, 0.0, 0.0]\n",
    "    for i in range(3):\n",
    "        sum_product = 0.0\n",
    "        for j in range(3):\n",
    "            sum_product += adj_A[i][j] * vector[j]\n",
    "        result[i] = sum_product / det_A\n",
    "    return result\n",
    "\n",
    "\n",
    "print(f\"{solve(A, B)=}\")"
   ]
  }
 ],
 "metadata": {
  "kernelspec": {
   "display_name": "Python 3",
   "language": "python",
   "name": "python3"
  },
  "language_info": {
   "codemirror_mode": {
    "name": "ipython",
    "version": 3
   },
   "file_extension": ".py",
   "mimetype": "text/x-python",
   "name": "python",
   "nbconvert_exporter": "python",
   "pygments_lexer": "ipython3",
   "version": "3.9.6"
  }
 },
 "nbformat": 4,
 "nbformat_minor": 2
}
